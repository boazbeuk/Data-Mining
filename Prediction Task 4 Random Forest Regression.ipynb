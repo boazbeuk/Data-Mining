{
 "cells": [
  {
   "cell_type": "code",
   "execution_count": 10,
   "metadata": {},
   "outputs": [
    {
     "data": {
      "text/html": [
       "<div>\n",
       "<style scoped>\n",
       "    .dataframe tbody tr th:only-of-type {\n",
       "        vertical-align: middle;\n",
       "    }\n",
       "\n",
       "    .dataframe tbody tr th {\n",
       "        vertical-align: top;\n",
       "    }\n",
       "\n",
       "    .dataframe thead th {\n",
       "        text-align: right;\n",
       "    }\n",
       "</style>\n",
       "<table border=\"1\" class=\"dataframe\">\n",
       "  <thead>\n",
       "    <tr style=\"text-align: right;\">\n",
       "      <th></th>\n",
       "      <th>mood</th>\n",
       "      <th>circumplex.arousal</th>\n",
       "      <th>circumplex.valence</th>\n",
       "      <th>activity</th>\n",
       "      <th>screen</th>\n",
       "      <th>sms</th>\n",
       "      <th>appCat.builtin</th>\n",
       "      <th>appCat.communication</th>\n",
       "      <th>appCat.entertainment</th>\n",
       "      <th>appCat.finance</th>\n",
       "      <th>...</th>\n",
       "      <th>appCat.other</th>\n",
       "      <th>appCat.social</th>\n",
       "      <th>appCat.travel</th>\n",
       "      <th>appCat.unknown</th>\n",
       "      <th>appCat.utilities</th>\n",
       "      <th>appCat.weather</th>\n",
       "      <th>target_mood_plus1</th>\n",
       "      <th>summer</th>\n",
       "      <th>spring</th>\n",
       "      <th>winter</th>\n",
       "    </tr>\n",
       "  </thead>\n",
       "  <tbody>\n",
       "    <tr>\n",
       "      <th>0</th>\n",
       "      <td>6</td>\n",
       "      <td>-0.0</td>\n",
       "      <td>1.0</td>\n",
       "      <td>0.000000</td>\n",
       "      <td>0.000000</td>\n",
       "      <td>2.0</td>\n",
       "      <td>0.000</td>\n",
       "      <td>0.000</td>\n",
       "      <td>0.000</td>\n",
       "      <td>0.000</td>\n",
       "      <td>...</td>\n",
       "      <td>0.000</td>\n",
       "      <td>0.0000</td>\n",
       "      <td>0.000</td>\n",
       "      <td>0.0</td>\n",
       "      <td>0.000</td>\n",
       "      <td>0.000</td>\n",
       "      <td>6.0</td>\n",
       "      <td>0</td>\n",
       "      <td>0</td>\n",
       "      <td>1</td>\n",
       "    </tr>\n",
       "    <tr>\n",
       "      <th>1</th>\n",
       "      <td>6</td>\n",
       "      <td>0.0</td>\n",
       "      <td>0.0</td>\n",
       "      <td>3.083152</td>\n",
       "      <td>9100.601001</td>\n",
       "      <td>0.0</td>\n",
       "      <td>1255.653</td>\n",
       "      <td>5903.482</td>\n",
       "      <td>1007.456</td>\n",
       "      <td>49.544</td>\n",
       "      <td>...</td>\n",
       "      <td>139.195</td>\n",
       "      <td>3945.8130</td>\n",
       "      <td>915.445</td>\n",
       "      <td>0.0</td>\n",
       "      <td>598.754</td>\n",
       "      <td>0.000</td>\n",
       "      <td>6.0</td>\n",
       "      <td>0</td>\n",
       "      <td>1</td>\n",
       "      <td>0</td>\n",
       "    </tr>\n",
       "    <tr>\n",
       "      <th>2</th>\n",
       "      <td>6</td>\n",
       "      <td>1.0</td>\n",
       "      <td>0.0</td>\n",
       "      <td>3.790084</td>\n",
       "      <td>6142.161000</td>\n",
       "      <td>1.0</td>\n",
       "      <td>480.124</td>\n",
       "      <td>4962.918</td>\n",
       "      <td>93.324</td>\n",
       "      <td>21.076</td>\n",
       "      <td>...</td>\n",
       "      <td>98.143</td>\n",
       "      <td>439.6320</td>\n",
       "      <td>37.305</td>\n",
       "      <td>0.0</td>\n",
       "      <td>117.621</td>\n",
       "      <td>0.000</td>\n",
       "      <td>7.0</td>\n",
       "      <td>0</td>\n",
       "      <td>1</td>\n",
       "      <td>0</td>\n",
       "    </tr>\n",
       "    <tr>\n",
       "      <th>3</th>\n",
       "      <td>6</td>\n",
       "      <td>0.0</td>\n",
       "      <td>1.0</td>\n",
       "      <td>2.141117</td>\n",
       "      <td>6033.096002</td>\n",
       "      <td>0.0</td>\n",
       "      <td>615.324</td>\n",
       "      <td>4495.049</td>\n",
       "      <td>94.346</td>\n",
       "      <td>43.403</td>\n",
       "      <td>...</td>\n",
       "      <td>72.823</td>\n",
       "      <td>900.8390</td>\n",
       "      <td>0.000</td>\n",
       "      <td>0.0</td>\n",
       "      <td>30.086</td>\n",
       "      <td>30.386</td>\n",
       "      <td>6.0</td>\n",
       "      <td>0</td>\n",
       "      <td>1</td>\n",
       "      <td>0</td>\n",
       "    </tr>\n",
       "    <tr>\n",
       "      <th>4</th>\n",
       "      <td>6</td>\n",
       "      <td>1.0</td>\n",
       "      <td>0.0</td>\n",
       "      <td>1.895065</td>\n",
       "      <td>10422.503001</td>\n",
       "      <td>0.0</td>\n",
       "      <td>816.953</td>\n",
       "      <td>6809.575</td>\n",
       "      <td>417.651</td>\n",
       "      <td>34.106</td>\n",
       "      <td>...</td>\n",
       "      <td>66.558</td>\n",
       "      <td>2644.4390</td>\n",
       "      <td>54.701</td>\n",
       "      <td>0.0</td>\n",
       "      <td>178.732</td>\n",
       "      <td>0.000</td>\n",
       "      <td>7.0</td>\n",
       "      <td>0</td>\n",
       "      <td>1</td>\n",
       "      <td>0</td>\n",
       "    </tr>\n",
       "    <tr>\n",
       "      <th>...</th>\n",
       "      <td>...</td>\n",
       "      <td>...</td>\n",
       "      <td>...</td>\n",
       "      <td>...</td>\n",
       "      <td>...</td>\n",
       "      <td>...</td>\n",
       "      <td>...</td>\n",
       "      <td>...</td>\n",
       "      <td>...</td>\n",
       "      <td>...</td>\n",
       "      <td>...</td>\n",
       "      <td>...</td>\n",
       "      <td>...</td>\n",
       "      <td>...</td>\n",
       "      <td>...</td>\n",
       "      <td>...</td>\n",
       "      <td>...</td>\n",
       "      <td>...</td>\n",
       "      <td>...</td>\n",
       "      <td>...</td>\n",
       "      <td>...</td>\n",
       "    </tr>\n",
       "    <tr>\n",
       "      <th>1206</th>\n",
       "      <td>6</td>\n",
       "      <td>-1.0</td>\n",
       "      <td>0.0</td>\n",
       "      <td>3.713814</td>\n",
       "      <td>6659.054999</td>\n",
       "      <td>1.0</td>\n",
       "      <td>1282.030</td>\n",
       "      <td>1567.344</td>\n",
       "      <td>194.216</td>\n",
       "      <td>0.000</td>\n",
       "      <td>...</td>\n",
       "      <td>42.362</td>\n",
       "      <td>2868.6710</td>\n",
       "      <td>0.000</td>\n",
       "      <td>0.0</td>\n",
       "      <td>96.982</td>\n",
       "      <td>0.000</td>\n",
       "      <td>5.0</td>\n",
       "      <td>1</td>\n",
       "      <td>0</td>\n",
       "      <td>0</td>\n",
       "    </tr>\n",
       "    <tr>\n",
       "      <th>1207</th>\n",
       "      <td>5</td>\n",
       "      <td>-0.0</td>\n",
       "      <td>0.0</td>\n",
       "      <td>1.497619</td>\n",
       "      <td>5975.597999</td>\n",
       "      <td>3.0</td>\n",
       "      <td>846.084</td>\n",
       "      <td>1235.537</td>\n",
       "      <td>688.769</td>\n",
       "      <td>0.000</td>\n",
       "      <td>...</td>\n",
       "      <td>151.582</td>\n",
       "      <td>5441.2640</td>\n",
       "      <td>0.000</td>\n",
       "      <td>0.0</td>\n",
       "      <td>0.000</td>\n",
       "      <td>0.000</td>\n",
       "      <td>6.0</td>\n",
       "      <td>1</td>\n",
       "      <td>0</td>\n",
       "      <td>0</td>\n",
       "    </tr>\n",
       "    <tr>\n",
       "      <th>1208</th>\n",
       "      <td>6</td>\n",
       "      <td>-1.0</td>\n",
       "      <td>0.0</td>\n",
       "      <td>0.304902</td>\n",
       "      <td>3377.526001</td>\n",
       "      <td>2.0</td>\n",
       "      <td>365.069</td>\n",
       "      <td>2078.403</td>\n",
       "      <td>124.694</td>\n",
       "      <td>0.000</td>\n",
       "      <td>...</td>\n",
       "      <td>142.686</td>\n",
       "      <td>2010.3640</td>\n",
       "      <td>0.000</td>\n",
       "      <td>0.0</td>\n",
       "      <td>56.173</td>\n",
       "      <td>0.000</td>\n",
       "      <td>8.0</td>\n",
       "      <td>1</td>\n",
       "      <td>0</td>\n",
       "      <td>0</td>\n",
       "    </tr>\n",
       "    <tr>\n",
       "      <th>1209</th>\n",
       "      <td>8</td>\n",
       "      <td>0.0</td>\n",
       "      <td>1.0</td>\n",
       "      <td>2.479228</td>\n",
       "      <td>6241.620998</td>\n",
       "      <td>1.0</td>\n",
       "      <td>1751.404</td>\n",
       "      <td>1936.415</td>\n",
       "      <td>614.706</td>\n",
       "      <td>0.000</td>\n",
       "      <td>...</td>\n",
       "      <td>336.913</td>\n",
       "      <td>4487.4515</td>\n",
       "      <td>0.000</td>\n",
       "      <td>0.0</td>\n",
       "      <td>30.666</td>\n",
       "      <td>0.000</td>\n",
       "      <td>7.0</td>\n",
       "      <td>1</td>\n",
       "      <td>0</td>\n",
       "      <td>0</td>\n",
       "    </tr>\n",
       "    <tr>\n",
       "      <th>1210</th>\n",
       "      <td>7</td>\n",
       "      <td>-1.0</td>\n",
       "      <td>1.0</td>\n",
       "      <td>4.064507</td>\n",
       "      <td>625.897000</td>\n",
       "      <td>1.0</td>\n",
       "      <td>353.685</td>\n",
       "      <td>435.105</td>\n",
       "      <td>136.738</td>\n",
       "      <td>0.000</td>\n",
       "      <td>...</td>\n",
       "      <td>29.202</td>\n",
       "      <td>1789.9220</td>\n",
       "      <td>0.939</td>\n",
       "      <td>0.0</td>\n",
       "      <td>3.199</td>\n",
       "      <td>0.000</td>\n",
       "      <td>7.0</td>\n",
       "      <td>1</td>\n",
       "      <td>0</td>\n",
       "      <td>0</td>\n",
       "    </tr>\n",
       "  </tbody>\n",
       "</table>\n",
       "<p>1211 rows × 22 columns</p>\n",
       "</div>"
      ],
      "text/plain": [
       "      mood  circumplex.arousal  circumplex.valence  activity        screen  \\\n",
       "0        6                -0.0                 1.0  0.000000      0.000000   \n",
       "1        6                 0.0                 0.0  3.083152   9100.601001   \n",
       "2        6                 1.0                 0.0  3.790084   6142.161000   \n",
       "3        6                 0.0                 1.0  2.141117   6033.096002   \n",
       "4        6                 1.0                 0.0  1.895065  10422.503001   \n",
       "...    ...                 ...                 ...       ...           ...   \n",
       "1206     6                -1.0                 0.0  3.713814   6659.054999   \n",
       "1207     5                -0.0                 0.0  1.497619   5975.597999   \n",
       "1208     6                -1.0                 0.0  0.304902   3377.526001   \n",
       "1209     8                 0.0                 1.0  2.479228   6241.620998   \n",
       "1210     7                -1.0                 1.0  4.064507    625.897000   \n",
       "\n",
       "      sms  appCat.builtin  appCat.communication  appCat.entertainment  \\\n",
       "0     2.0           0.000                 0.000                 0.000   \n",
       "1     0.0        1255.653              5903.482              1007.456   \n",
       "2     1.0         480.124              4962.918                93.324   \n",
       "3     0.0         615.324              4495.049                94.346   \n",
       "4     0.0         816.953              6809.575               417.651   \n",
       "...   ...             ...                   ...                   ...   \n",
       "1206  1.0        1282.030              1567.344               194.216   \n",
       "1207  3.0         846.084              1235.537               688.769   \n",
       "1208  2.0         365.069              2078.403               124.694   \n",
       "1209  1.0        1751.404              1936.415               614.706   \n",
       "1210  1.0         353.685               435.105               136.738   \n",
       "\n",
       "      appCat.finance  ...  appCat.other  appCat.social  appCat.travel  \\\n",
       "0              0.000  ...         0.000         0.0000          0.000   \n",
       "1             49.544  ...       139.195      3945.8130        915.445   \n",
       "2             21.076  ...        98.143       439.6320         37.305   \n",
       "3             43.403  ...        72.823       900.8390          0.000   \n",
       "4             34.106  ...        66.558      2644.4390         54.701   \n",
       "...              ...  ...           ...            ...            ...   \n",
       "1206           0.000  ...        42.362      2868.6710          0.000   \n",
       "1207           0.000  ...       151.582      5441.2640          0.000   \n",
       "1208           0.000  ...       142.686      2010.3640          0.000   \n",
       "1209           0.000  ...       336.913      4487.4515          0.000   \n",
       "1210           0.000  ...        29.202      1789.9220          0.939   \n",
       "\n",
       "      appCat.unknown  appCat.utilities  appCat.weather  target_mood_plus1  \\\n",
       "0                0.0             0.000           0.000                6.0   \n",
       "1                0.0           598.754           0.000                6.0   \n",
       "2                0.0           117.621           0.000                7.0   \n",
       "3                0.0            30.086          30.386                6.0   \n",
       "4                0.0           178.732           0.000                7.0   \n",
       "...              ...               ...             ...                ...   \n",
       "1206             0.0            96.982           0.000                5.0   \n",
       "1207             0.0             0.000           0.000                6.0   \n",
       "1208             0.0            56.173           0.000                8.0   \n",
       "1209             0.0            30.666           0.000                7.0   \n",
       "1210             0.0             3.199           0.000                7.0   \n",
       "\n",
       "      summer  spring  winter  \n",
       "0          0       0       1  \n",
       "1          0       1       0  \n",
       "2          0       1       0  \n",
       "3          0       1       0  \n",
       "4          0       1       0  \n",
       "...      ...     ...     ...  \n",
       "1206       1       0       0  \n",
       "1207       1       0       0  \n",
       "1208       1       0       0  \n",
       "1209       1       0       0  \n",
       "1210       1       0       0  \n",
       "\n",
       "[1211 rows x 22 columns]"
      ]
     },
     "execution_count": 10,
     "metadata": {},
     "output_type": "execute_result"
    }
   ],
   "source": [
    "import pandas as pd\n",
    "import matplotlib.pyplot as plt\n",
    "\n",
    "import pyarrow.parquet as pq\n",
    "import numpy as np\n",
    "from sklearn.metrics import accuracy_score, confusion_matrix, classification_report\n",
    "\n",
    "\n",
    "data = pd.read_csv('/Users/Boaz/Documents/DataMining/prepro_data_RF.csv')\n",
    "data = data.drop('time',axis = 1)\n",
    "data = data.drop('season',axis =1 )\n",
    "data = data.drop('id', axis = 1)\n",
    "data['mood'] = round(data['mood'])\n",
    "data['circumplex.arousal'] = round(data['circumplex.arousal'])\n",
    "data['circumplex.valence'] = round(data['circumplex.valence'])\n",
    "data['target_mood_plus1'] = round(data['target_mood_plus1'])\n",
    "\n",
    "data"
   ]
  },
  {
   "cell_type": "code",
   "execution_count": 11,
   "metadata": {},
   "outputs": [
    {
     "data": {
      "text/plain": [
       "Counter({6.0: 253, 7.0: 613, 8.0: 303, 4.0: 8, 5.0: 23, 9.0: 9, 3.0: 2})"
      ]
     },
     "execution_count": 11,
     "metadata": {},
     "output_type": "execute_result"
    }
   ],
   "source": [
    "from collections import Counter\n",
    "count = Counter(data['target_mood_plus1'])\n",
    "count\n",
    "\n"
   ]
  },
  {
   "cell_type": "code",
   "execution_count": 12,
   "metadata": {},
   "outputs": [
    {
     "data": {
      "text/plain": [
       "Counter({6.0: 253, 7.0: 613, 8.0: 303, 4.0: 8, 5.0: 23, 9.0: 9})"
      ]
     },
     "execution_count": 12,
     "metadata": {},
     "output_type": "execute_result"
    }
   ],
   "source": [
    "data = data[data.target_mood_plus1 != 3]\n",
    "count = Counter(data['target_mood_plus1'])\n",
    "count"
   ]
  },
  {
   "cell_type": "code",
   "execution_count": null,
   "metadata": {},
   "outputs": [],
   "source": []
  },
  {
   "cell_type": "code",
   "execution_count": 13,
   "metadata": {},
   "outputs": [],
   "source": [
    "from sklearn.model_selection import train_test_split\n",
    "X_train_total = []\n",
    "X_test_total = []\n",
    "Y_train_total = []\n",
    "Y_test_total = []\n",
    "labels = np.array(data['target_mood_plus1'])\n",
    "features= data.drop('target_mood_plus1', axis = 1)\n",
    "features = np.array(features)\n",
    "Xtrain, Xtest, ytrain, ytest = train_test_split(features, labels, random_state = 42,stratify=labels)\n",
    "X_train_total.append(Xtrain)\n",
    "X_test_total.append(Xtest)\n",
    "Y_train_total.append(ytrain)\n",
    "Y_test_total.append(ytest)\n"
   ]
  },
  {
   "cell_type": "code",
   "execution_count": null,
   "metadata": {},
   "outputs": [],
   "source": []
  },
  {
   "cell_type": "code",
   "execution_count": 14,
   "metadata": {},
   "outputs": [],
   "source": [
    "# GET RID OF NESTED LIST\n",
    "X_train_total = [item for l in X_train_total for item in l]\n",
    "X_test_total = [item for l in X_test_total for item in l]\n",
    "Y_train_total = [item for l in Y_train_total for item in l]\n",
    "Y_test_total = [item for l in Y_test_total for item in l]"
   ]
  },
  {
   "cell_type": "code",
   "execution_count": null,
   "metadata": {},
   "outputs": [],
   "source": []
  },
  {
   "cell_type": "code",
   "execution_count": null,
   "metadata": {},
   "outputs": [],
   "source": []
  },
  {
   "cell_type": "code",
   "execution_count": 15,
   "metadata": {},
   "outputs": [],
   "source": [
    "from sklearn.model_selection import RandomizedSearchCV\n",
    "# Number of trees in random forest\n",
    "n_estimators = [int(x) for x in np.linspace(start = 200, stop = 2000, num = 10)]\n",
    "# Number of features to consider at every split\n",
    "max_features = ['auto', 'sqrt']\n",
    "# Maximum number of levels in tree\n",
    "max_depth = [int(x) for x in np.linspace(10, 110, num = 11)]\n",
    "max_depth.append(None)\n",
    "# Minimum number of samples required to split a node\n",
    "min_samples_split = [2, 5, 10]\n",
    "# Minimum number of samples required at each leaf node\n",
    "min_samples_leaf = [1, 2, 4]\n",
    "# Method of selecting samples for training each tree\n",
    "bootstrap = [True, False]\n",
    "# Create the random grid\n",
    "random_grid = {'n_estimators': n_estimators,\n",
    "               'max_features': max_features,\n",
    "               'max_depth': max_depth,\n",
    "               'min_samples_split': min_samples_split,\n",
    "               'min_samples_leaf': min_samples_leaf,\n",
    "               'bootstrap': bootstrap}"
   ]
  },
  {
   "cell_type": "code",
   "execution_count": 17,
   "metadata": {},
   "outputs": [
    {
     "name": "stdout",
     "output_type": "stream",
     "text": [
      "Fitting 3 folds for each of 100 candidates, totalling 300 fits\n"
     ]
    },
    {
     "name": "stderr",
     "output_type": "stream",
     "text": [
      "[Parallel(n_jobs=-1)]: Using backend LokyBackend with 12 concurrent workers.\n",
      "[Parallel(n_jobs=-1)]: Done  17 tasks      | elapsed:    9.2s\n",
      "[Parallel(n_jobs=-1)]: Done 138 tasks      | elapsed:   59.4s\n",
      "[Parallel(n_jobs=-1)]: Done 300 out of 300 | elapsed:  2.3min finished\n"
     ]
    },
    {
     "data": {
      "text/plain": [
       "RandomizedSearchCV(cv=3, error_score=nan,\n",
       "                   estimator=RandomForestRegressor(bootstrap=True,\n",
       "                                                   ccp_alpha=0.0,\n",
       "                                                   criterion='mse',\n",
       "                                                   max_depth=None,\n",
       "                                                   max_features='auto',\n",
       "                                                   max_leaf_nodes=None,\n",
       "                                                   max_samples=None,\n",
       "                                                   min_impurity_decrease=0.0,\n",
       "                                                   min_impurity_split=None,\n",
       "                                                   min_samples_leaf=1,\n",
       "                                                   min_samples_split=2,\n",
       "                                                   min_weight_fraction_leaf=0.0,\n",
       "                                                   n_estimators=100,\n",
       "                                                   n_jobs=None, oob_score=Fals...\n",
       "                   param_distributions={'bootstrap': [True, False],\n",
       "                                        'max_depth': [10, 20, 30, 40, 50, 60,\n",
       "                                                      70, 80, 90, 100, 110,\n",
       "                                                      None],\n",
       "                                        'max_features': ['auto', 'sqrt'],\n",
       "                                        'min_samples_leaf': [1, 2, 4],\n",
       "                                        'min_samples_split': [2, 5, 10],\n",
       "                                        'n_estimators': [200, 400, 600, 800,\n",
       "                                                         1000, 1200, 1400, 1600,\n",
       "                                                         1800, 2000]},\n",
       "                   pre_dispatch='2*n_jobs', random_state=42, refit=True,\n",
       "                   return_train_score=False, scoring=None, verbose=2)"
      ]
     },
     "execution_count": 17,
     "metadata": {},
     "output_type": "execute_result"
    }
   ],
   "source": [
    "# Use the random grid to search for best hyperparameters\n",
    "# First create the base model to tune\n",
    "from sklearn.ensemble import RandomForestRegressor\n",
    "\n",
    "rf = RandomForestRegressor()\n",
    "# Random search of parameters, using 3 fold cross validation, \n",
    "# search across 100 different combinations, and use all available cores\n",
    "rf_random = RandomizedSearchCV(estimator = rf, param_distributions = random_grid, n_iter = 100, cv = 3, verbose=2, random_state=42, n_jobs = -1)\n",
    "# Fit the random search model\n",
    "rf_random.fit(X_train_total, Y_train_total)"
   ]
  },
  {
   "cell_type": "code",
   "execution_count": 18,
   "metadata": {},
   "outputs": [
    {
     "data": {
      "text/plain": [
       "{'n_estimators': 2000,\n",
       " 'min_samples_split': 5,\n",
       " 'min_samples_leaf': 1,\n",
       " 'max_features': 'sqrt',\n",
       " 'max_depth': 10,\n",
       " 'bootstrap': True}"
      ]
     },
     "execution_count": 18,
     "metadata": {},
     "output_type": "execute_result"
    }
   ],
   "source": [
    "rf_random.best_params_"
   ]
  },
  {
   "cell_type": "code",
   "execution_count": 19,
   "metadata": {},
   "outputs": [],
   "source": [
    "from sklearn.model_selection import GridSearchCV\n",
    "\n",
    "param_grid = {\n",
    "    'bootstrap': [True],\n",
    "    'max_depth': [8, 10, 12],\n",
    "    'max_features': ['sqrt'],\n",
    "    'min_samples_leaf': [1,2, 3],\n",
    "    'min_samples_split': [4, 5, 6],\n",
    "    'n_estimators': [2000,1800, 2200]\n",
    "}\n",
    "rf = RandomForestRegressor()\n",
    "# Instantiate the grid search model\n",
    "grid_search = GridSearchCV(estimator = rf, param_grid = param_grid, \n",
    "                          cv = 3, n_jobs = -1, verbose = 2)"
   ]
  },
  {
   "cell_type": "code",
   "execution_count": 20,
   "metadata": {},
   "outputs": [
    {
     "name": "stdout",
     "output_type": "stream",
     "text": [
      "Fitting 3 folds for each of 81 candidates, totalling 243 fits\n"
     ]
    },
    {
     "name": "stderr",
     "output_type": "stream",
     "text": [
      "[Parallel(n_jobs=-1)]: Using backend LokyBackend with 12 concurrent workers.\n",
      "[Parallel(n_jobs=-1)]: Done  17 tasks      | elapsed:   12.2s\n",
      "[Parallel(n_jobs=-1)]: Done 138 tasks      | elapsed:  1.3min\n",
      "[Parallel(n_jobs=-1)]: Done 243 out of 243 | elapsed:  2.2min finished\n"
     ]
    },
    {
     "data": {
      "text/plain": [
       "GridSearchCV(cv=3, error_score=nan,\n",
       "             estimator=RandomForestRegressor(bootstrap=True, ccp_alpha=0.0,\n",
       "                                             criterion='mse', max_depth=None,\n",
       "                                             max_features='auto',\n",
       "                                             max_leaf_nodes=None,\n",
       "                                             max_samples=None,\n",
       "                                             min_impurity_decrease=0.0,\n",
       "                                             min_impurity_split=None,\n",
       "                                             min_samples_leaf=1,\n",
       "                                             min_samples_split=2,\n",
       "                                             min_weight_fraction_leaf=0.0,\n",
       "                                             n_estimators=100, n_jobs=None,\n",
       "                                             oob_score=False, random_state=None,\n",
       "                                             verbose=0, warm_start=False),\n",
       "             iid='deprecated', n_jobs=-1,\n",
       "             param_grid={'bootstrap': [True], 'max_depth': [8, 10, 12],\n",
       "                         'max_features': ['sqrt'],\n",
       "                         'min_samples_leaf': [1, 2, 3],\n",
       "                         'min_samples_split': [4, 5, 6],\n",
       "                         'n_estimators': [2000, 1800, 2200]},\n",
       "             pre_dispatch='2*n_jobs', refit=True, return_train_score=False,\n",
       "             scoring=None, verbose=2)"
      ]
     },
     "execution_count": 20,
     "metadata": {},
     "output_type": "execute_result"
    }
   ],
   "source": [
    "grid_search.fit(X_train_total, Y_train_total)"
   ]
  },
  {
   "cell_type": "code",
   "execution_count": 21,
   "metadata": {},
   "outputs": [
    {
     "data": {
      "text/plain": [
       "{'bootstrap': True,\n",
       " 'max_depth': 10,\n",
       " 'max_features': 'sqrt',\n",
       " 'min_samples_leaf': 1,\n",
       " 'min_samples_split': 6,\n",
       " 'n_estimators': 2000}"
      ]
     },
     "execution_count": 21,
     "metadata": {},
     "output_type": "execute_result"
    }
   ],
   "source": [
    "grid_search.best_params_"
   ]
  },
  {
   "cell_type": "code",
   "execution_count": 25,
   "metadata": {},
   "outputs": [
    {
     "data": {
      "text/plain": [
       "RandomForestRegressor(bootstrap=True, ccp_alpha=0.0, criterion='mse',\n",
       "                      max_depth=10, max_features='sqrt', max_leaf_nodes=None,\n",
       "                      max_samples=None, min_impurity_decrease=0.0,\n",
       "                      min_impurity_split=None, min_samples_leaf=1,\n",
       "                      min_samples_split=6, min_weight_fraction_leaf=0.0,\n",
       "                      n_estimators=2000, n_jobs=None, oob_score=False,\n",
       "                      random_state=None, verbose=0, warm_start=False)"
      ]
     },
     "execution_count": 25,
     "metadata": {},
     "output_type": "execute_result"
    }
   ],
   "source": [
    "best_grid = grid_search.best_estimator_\n",
    "best_grid\n",
    "# best_grid.fit(X_train_total, Y_train_total)\n",
    "# predictions = best_grid.predict(X_test_total)\n",
    "# predictions = [np.argmax(p) for p in predictions]\n",
    "#predictions"
   ]
  },
  {
   "cell_type": "code",
   "execution_count": 23,
   "metadata": {},
   "outputs": [
    {
     "name": "stdout",
     "output_type": "stream",
     "text": [
      "0.5313531353135313\n",
      "              precision    recall  f1-score   support\n",
      "\n",
      "         4.0       0.00      0.00      0.00         2\n",
      "         5.0       0.00      0.00      0.00         6\n",
      "         6.0       0.44      0.17      0.25        63\n",
      "         7.0       0.53      0.94      0.68       154\n",
      "         8.0       0.75      0.08      0.14        76\n",
      "         9.0       0.00      0.00      0.00         2\n",
      "\n",
      "    accuracy                           0.53       303\n",
      "   macro avg       0.29      0.20      0.18       303\n",
      "weighted avg       0.55      0.53      0.43       303\n",
      "\n",
      "0.5808580858085809\n"
     ]
    },
    {
     "name": "stderr",
     "output_type": "stream",
     "text": [
      "C:\\Users\\Boaz\\anaconda3\\lib\\site-packages\\sklearn\\metrics\\_classification.py:1272: UndefinedMetricWarning: Precision and F-score are ill-defined and being set to 0.0 in labels with no predicted samples. Use `zero_division` parameter to control this behavior.\n",
      "  _warn_prf(average, modifier, msg_start, len(result))\n"
     ]
    }
   ],
   "source": [
    "predictions = predictions.round()\n",
    "print(accuracy_score(Y_test_total, predictions))\n",
    "print(classification_report(Y_test_total, predictions))\n",
    "from sklearn.metrics import mean_squared_error, mean_absolute_error\n",
    "print(mean_squared_error(Y_test_total, predictions))"
   ]
  },
  {
   "cell_type": "code",
   "execution_count": 24,
   "metadata": {},
   "outputs": [
    {
     "name": "stdout",
     "output_type": "stream",
     "text": [
      "Variable: mood                 Importance: 0.15\n",
      "Variable: activity             Importance: 0.09\n",
      "Variable: screen               Importance: 0.08\n",
      "Variable: appCat.builtin       Importance: 0.08\n",
      "Variable: appCat.communication Importance: 0.08\n",
      "Variable: appCat.entertainment Importance: 0.08\n",
      "Variable: appCat.other         Importance: 0.07\n",
      "Variable: appCat.social        Importance: 0.07\n",
      "Variable: circumplex.valence   Importance: 0.04\n",
      "Variable: appCat.travel        Importance: 0.04\n",
      "Variable: circumplex.arousal   Importance: 0.03\n",
      "Variable: sms                  Importance: 0.03\n",
      "Variable: appCat.office        Importance: 0.03\n",
      "Variable: appCat.utilities     Importance: 0.03\n",
      "Variable: appCat.finance       Importance: 0.02\n",
      "Variable: appCat.game          Importance: 0.02\n",
      "Variable: appCat.unknown       Importance: 0.02\n",
      "Variable: appCat.weather       Importance: 0.02\n",
      "Variable: summer               Importance: 0.01\n",
      "Variable: spring               Importance: 0.01\n",
      "Variable: winter               Importance: 0.0\n"
     ]
    }
   ],
   "source": [
    "# Get numerical feature importances\n",
    "features = data.drop('target_mood_plus1', axis = 1)\n",
    "feature_list = list(features.columns)\n",
    "\n",
    "importances = list(best_grid.feature_importances_)\n",
    "# List of tuples with variable and importance\n",
    "feature_importances = [(feature, round(importance, 2)) for feature, importance in zip(feature_list, importances)]\n",
    "# Sort the feature importances by most important first\n",
    "feature_importances = sorted(feature_importances, key = lambda x: x[1], reverse = True)\n",
    "# Print out the feature and importances \n",
    "[print('Variable: {:20} Importance: {}'.format(*pair)) for pair in feature_importances];"
   ]
  },
  {
   "cell_type": "code",
   "execution_count": 26,
   "metadata": {},
   "outputs": [
    {
     "name": "stdout",
     "output_type": "stream",
     "text": [
      "0.48184818481848185\n",
      "              precision    recall  f1-score   support\n",
      "\n",
      "         4.0       0.00      0.00      0.00         2\n",
      "         5.0       0.00      0.00      0.00         6\n",
      "         6.0       0.13      0.03      0.05        63\n",
      "         7.0       0.50      0.94      0.65       154\n",
      "         8.0       0.00      0.00      0.00        76\n",
      "         9.0       0.00      0.00      0.00         2\n",
      "\n",
      "    accuracy                           0.48       303\n",
      "   macro avg       0.11      0.16      0.12       303\n",
      "weighted avg       0.28      0.48      0.34       303\n",
      "\n",
      "0.5511551155115512\n"
     ]
    },
    {
     "name": "stderr",
     "output_type": "stream",
     "text": [
      "C:\\Users\\Boaz\\anaconda3\\lib\\site-packages\\sklearn\\metrics\\_classification.py:1272: UndefinedMetricWarning: Precision and F-score are ill-defined and being set to 0.0 in labels with no predicted samples. Use `zero_division` parameter to control this behavior.\n",
      "  _warn_prf(average, modifier, msg_start, len(result))\n"
     ]
    }
   ],
   "source": [
    "best_grid = RandomForestRegressor(bootstrap=True, ccp_alpha=0.0, criterion='mae',\n",
    "                      max_depth=10, max_features='sqrt', max_leaf_nodes=None,\n",
    "                      max_samples=None, min_impurity_decrease=0.0,\n",
    "                      min_impurity_split=None, min_samples_leaf=1,\n",
    "                      min_samples_split=6, min_weight_fraction_leaf=0.0,\n",
    "                      n_estimators=2000, n_jobs=None, oob_score=False,\n",
    "                      random_state=None, verbose=0, warm_start=False)\n",
    "\n",
    "best_grid.fit(X_train_total, Y_train_total)\n",
    "predictions = best_grid.predict(X_test_total)\n",
    "# predictions = [np.argmax(p) for p in predictions]\n",
    "predictions = predictions.round()\n",
    "print(accuracy_score(Y_test_total, predictions))\n",
    "print(classification_report(Y_test_total, predictions))\n",
    "from sklearn.metrics import mean_squared_error, mean_absolute_error\n",
    "print(mean_absolute_error(Y_test_total, predictions))\n"
   ]
  },
  {
   "cell_type": "code",
   "execution_count": null,
   "metadata": {},
   "outputs": [],
   "source": []
  }
 ],
 "metadata": {
  "kernelspec": {
   "display_name": "Python 3",
   "language": "python",
   "name": "python3"
  },
  "language_info": {
   "codemirror_mode": {
    "name": "ipython",
    "version": 3
   },
   "file_extension": ".py",
   "mimetype": "text/x-python",
   "name": "python",
   "nbconvert_exporter": "python",
   "pygments_lexer": "ipython3",
   "version": "3.7.6"
  }
 },
 "nbformat": 4,
 "nbformat_minor": 4
}
